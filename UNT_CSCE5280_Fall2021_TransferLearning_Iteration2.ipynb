{
  "nbformat": 4,
  "nbformat_minor": 0,
  "metadata": {
    "colab": {
      "name": "UNT_CSCE5280_Fall2021_TransferLearning_Iteration2.ipynb",
      "provenance": [],
      "authorship_tag": "ABX9TyPrG9Y7gGRwNKf0UZhAWzXL",
      "include_colab_link": true
    },
    "kernelspec": {
      "name": "python3",
      "display_name": "Python 3"
    },
    "language_info": {
      "name": "python"
    }
  },
  "cells": [
    {
      "cell_type": "markdown",
      "metadata": {
        "id": "view-in-github",
        "colab_type": "text"
      },
      "source": [
        "<a href=\"https://colab.research.google.com/github/LoriSchuan-dev/transferLearning_AIwearable/blob/main/UNT_CSCE5280_Fall2021_TransferLearning_Iteration2.ipynb\" target=\"_parent\"><img src=\"https://colab.research.google.com/assets/colab-badge.svg\" alt=\"Open In Colab\"/></a>"
      ]
    },
    {
      "cell_type": "code",
      "metadata": {
        "colab": {
          "base_uri": "https://localhost:8080/"
        },
        "id": "e8_XXscf_A9J",
        "outputId": "33981207-df65-4e37-b74a-a8c1ffc1ae51"
      },
      "source": [
        "import os\n",
        "import sys\n",
        "import platform\n",
        "\n",
        "#!pip install -U -q PyDrive\n",
        "\n",
        "from pydrive.auth import GoogleAuth\n",
        "from pydrive.drive import GoogleDrive\n",
        "from google.colab import auth\n",
        "#from google.colab import drive\n",
        "from oauth2client.client import GoogleCredentials\n",
        "\n",
        "os.getcwd()\n",
        "os.listdir()\n",
        "#drive.mount('/content/drive')\n",
        "#os.getcwd()\n",
        "#os.listdir(\"./drive/MyDrive\")\n"
      ],
      "execution_count": 1,
      "outputs": [
        {
          "output_type": "execute_result",
          "data": {
            "text/plain": [
              "['.config', 'sample_data']"
            ]
          },
          "metadata": {},
          "execution_count": 1
        }
      ]
    },
    {
      "cell_type": "code",
      "metadata": {
        "id": "IlVzPmm__Zl5"
      },
      "source": [
        "# cloning our team's repo on github\n",
        "#!git clone https://github.com/LoriSchuan-dev/transferLearning_AIwearable.git\n",
        "#os.listdir()"
      ],
      "execution_count": null,
      "outputs": []
    },
    {
      "cell_type": "code",
      "metadata": {
        "colab": {
          "base_uri": "https://localhost:8080/"
        },
        "id": "3N1eynOQ_-TN",
        "outputId": "c37ad79d-3024-485d-db1a-7f6a4ed6aa36"
      },
      "source": [
        "# Authenticate and create the PyDrive client.\n",
        "auth.authenticate_user()\n",
        "#gauth = GoogleAuth()\n",
        "#gauth.credentials = GoogleCredentials.get_application_default()\n",
        "#gDrive = GoogleDrive(gauth)\n",
        "\n",
        "\n",
        "# download the dataset from our team's shared folder on google drive\n",
        "!gdown --id '1X3vtb0ZPQBgv6Fdu_iHul9PNGbSnJqGN'\n",
        "\n",
        "# check if download successful\n",
        "#os.listdir()"
      ],
      "execution_count": 3,
      "outputs": [
        {
          "output_type": "stream",
          "name": "stdout",
          "text": [
            "Downloading...\n",
            "From: https://drive.google.com/uc?id=1X3vtb0ZPQBgv6Fdu_iHul9PNGbSnJqGN\n",
            "To: /content/gestures-dataset.zip\n",
            "\r  0% 0.00/2.16M [00:00<?, ?B/s]\r100% 2.16M/2.16M [00:00<00:00, 66.9MB/s]\n"
          ]
        }
      ]
    },
    {
      "cell_type": "code",
      "metadata": {
        "id": "Mlwf6HBOAC4Y"
      },
      "source": [
        "# extract from the dataset compressed package\n",
        "!unzip \"gestures-dataset.zip\"\n",
        "# check if extraction successful\n",
        "os.listdir(\"./gestures-dataset\")"
      ],
      "execution_count": null,
      "outputs": []
    },
    {
      "cell_type": "code",
      "metadata": {
        "colab": {
          "base_uri": "https://localhost:8080/"
        },
        "id": "x9TdMvw9DjF7",
        "outputId": "31aae9e8-28b0-4574-84fc-23407c0fd91b"
      },
      "source": [
        "# make new temporary folder to store results\n",
        "!mkdir results\n",
        "os.listdir()"
      ],
      "execution_count": 16,
      "outputs": [
        {
          "output_type": "execute_result",
          "data": {
            "text/plain": [
              "['.config',\n",
              " 'gestures-dataset',\n",
              " 'gestures-dataset.zip',\n",
              " 'adc.json',\n",
              " 'transferLearning_AIwearable',\n",
              " 'results',\n",
              " 'sample_data']"
            ]
          },
          "metadata": {},
          "execution_count": 16
        }
      ]
    },
    {
      "cell_type": "code",
      "metadata": {
        "colab": {
          "base_uri": "https://localhost:8080/"
        },
        "id": "0l4C3fItEQ0s",
        "outputId": "bccb4ddd-18da-4658-9c86-718ad932d7cb"
      },
      "source": [
        ""
      ],
      "execution_count": 30,
      "outputs": [
        {
          "output_type": "stream",
          "name": "stdout",
          "text": [
            "result_1634589317.2752984.zip\n"
          ]
        }
      ]
    },
    {
      "cell_type": "code",
      "metadata": {
        "id": "0aaYA4qSGGoo"
      },
      "source": [
        ""
      ],
      "execution_count": 26,
      "outputs": []
    },
    {
      "cell_type": "code",
      "metadata": {
        "colab": {
          "base_uri": "https://localhost:8080/"
        },
        "id": "di0_PfRtEQ3W",
        "outputId": "ac554bfc-e990-4c57-a056-a786cc4d295a"
      },
      "source": [
        "testFile = open(\"./results/testT.txt\",'w')\n",
        "\n",
        "testFile.close()\n",
        "os.listdir()"
      ],
      "execution_count": 31,
      "outputs": [
        {
          "output_type": "execute_result",
          "data": {
            "text/plain": [
              "['.config',\n",
              " 'testT.txt',\n",
              " 'gestures-dataset',\n",
              " 'gestures-dataset.zip',\n",
              " 'adc.json',\n",
              " 'transferLearning_AIwearable',\n",
              " 'results',\n",
              " 'sample_data']"
            ]
          },
          "metadata": {},
          "execution_count": 31
        }
      ]
    },
    {
      "cell_type": "code",
      "metadata": {
        "colab": {
          "base_uri": "https://localhost:8080/"
        },
        "id": "X2XkmRIwHhBT",
        "outputId": "30b9eece-1cb0-4a66-9ec5-575b090fc93b"
      },
      "source": [
        "os.listdir(\"./results\")"
      ],
      "execution_count": 32,
      "outputs": [
        {
          "output_type": "execute_result",
          "data": {
            "text/plain": [
              "['testT.txt']"
            ]
          },
          "metadata": {},
          "execution_count": 32
        }
      ]
    },
    {
      "cell_type": "code",
      "metadata": {
        "id": "E4CiuJZ-EQ6J"
      },
      "source": [
        "import time\n",
        "# zipping results fodler with timestamp\n",
        "resultZip = \"result_\" + str(time.time()) + \".zip\"\n",
        "print (resultZip)\n",
        "!zip $resultZip \"./results\"\n",
        "os.listdir()\n",
        "\n",
        "# Authenticate and create the PyDrive client.\n",
        "auth.authenticate_user()\n",
        "\n",
        "# upload to our team's shared folder on gg drive\n",
        "!pip install --upgrade gupload\n",
        "!gupload --to \"17ftcqLR_52zZ8byGL_s0aXxhyP2Ko7Y3\" $resultZip"
      ],
      "execution_count": null,
      "outputs": []
    },
    {
      "cell_type": "code",
      "metadata": {
        "id": "7YcWoJnQH36Z"
      },
      "source": [
        ""
      ],
      "execution_count": null,
      "outputs": []
    }
  ]
}