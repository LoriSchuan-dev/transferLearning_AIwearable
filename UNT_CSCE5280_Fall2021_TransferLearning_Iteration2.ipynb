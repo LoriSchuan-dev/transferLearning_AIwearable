{
  "nbformat": 4,
  "nbformat_minor": 0,
  "metadata": {
    "colab": {
      "name": "UNT_CSCE5280_Fall2021_TransferLearning_Iteration2.ipynb",
      "provenance": [],
      "authorship_tag": "ABX9TyPtUNUTBMuDfRAF7CAulk9r",
      "include_colab_link": true
    },
    "kernelspec": {
      "name": "python3",
      "display_name": "Python 3"
    },
    "language_info": {
      "name": "python"
    }
  },
  "cells": [
    {
      "cell_type": "markdown",
      "metadata": {
        "id": "view-in-github",
        "colab_type": "text"
      },
      "source": [
        "<a href=\"https://colab.research.google.com/github/LoriSchuan-dev/transferLearning_AIwearable/blob/main/UNT_CSCE5280_Fall2021_TransferLearning_Iteration2.ipynb\" target=\"_parent\"><img src=\"https://colab.research.google.com/assets/colab-badge.svg\" alt=\"Open In Colab\"/></a>"
      ]
    },
    {
      "cell_type": "code",
      "metadata": {
        "colab": {
          "base_uri": "https://localhost:8080/"
        },
        "id": "e8_XXscf_A9J",
        "outputId": "33981207-df65-4e37-b74a-a8c1ffc1ae51"
      },
      "source": [
        "import os\n",
        "import sys\n",
        "import platform\n",
        "\n",
        "#!pip install -U -q PyDrive\n",
        "\n",
        "from pydrive.auth import GoogleAuth\n",
        "from pydrive.drive import GoogleDrive\n",
        "from google.colab import auth\n",
        "#from google.colab import drive\n",
        "from oauth2client.client import GoogleCredentials\n",
        "\n",
        "os.getcwd()\n",
        "os.listdir()\n",
        "#drive.mount('/content/drive')\n",
        "#os.getcwd()\n",
        "#os.listdir(\"./drive/MyDrive\")\n"
      ],
      "execution_count": 1,
      "outputs": [
        {
          "output_type": "execute_result",
          "data": {
            "text/plain": [
              "['.config', 'sample_data']"
            ]
          },
          "metadata": {},
          "execution_count": 1
        }
      ]
    },
    {
      "cell_type": "code",
      "metadata": {
        "colab": {
          "base_uri": "https://localhost:8080/"
        },
        "id": "IlVzPmm__Zl5",
        "outputId": "7dee130a-5563-44ea-d1af-9192d312a205"
      },
      "source": [
        "# cloning our team's repo on github\n",
        "!git clone https://github.com/LoriSchuan-dev/transferLearning_AIwearable\n",
        "os.listdir()"
      ],
      "execution_count": 2,
      "outputs": [
        {
          "output_type": "stream",
          "name": "stdout",
          "text": [
            "Cloning into 'transferLearning_AIwearable'...\n",
            "remote: Enumerating objects: 4140, done.\u001b[K\n",
            "remote: Counting objects: 100% (4140/4140), done.\u001b[K\n",
            "remote: Compressing objects: 100% (4059/4059), done.\u001b[K\n",
            "remote: Total 4140 (delta 532), reused 3683 (delta 75), pack-reused 0\u001b[K\n",
            "Receiving objects: 100% (4140/4140), 65.18 MiB | 26.77 MiB/s, done.\n",
            "Resolving deltas: 100% (532/532), done.\n",
            "Checking out files: 100% (9973/9973), done.\n"
          ]
        },
        {
          "output_type": "execute_result",
          "data": {
            "text/plain": [
              "['.config', 'transferLearning_AIwearable', 'sample_data']"
            ]
          },
          "metadata": {},
          "execution_count": 2
        }
      ]
    }
  ]
}