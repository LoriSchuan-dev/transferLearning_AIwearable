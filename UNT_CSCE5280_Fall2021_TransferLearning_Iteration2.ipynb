{
  "nbformat": 4,
  "nbformat_minor": 0,
  "metadata": {
    "colab": {
      "name": "UNT_CSCE5280_Fall2021_TransferLearning_Iteration2.ipynb",
      "provenance": [],
      "collapsed_sections": [],
      "include_colab_link": true
    },
    "kernelspec": {
      "name": "python3",
      "display_name": "Python 3"
    },
    "language_info": {
      "name": "python"
    }
  },
  "cells": [
    {
      "cell_type": "markdown",
      "metadata": {
        "id": "view-in-github",
        "colab_type": "text"
      },
      "source": [
        "<a href=\"https://colab.research.google.com/github/LoriSchuan-dev/transferLearning_AIwearable/blob/main/UNT_CSCE5280_Fall2021_TransferLearning_Iteration2.ipynb\" target=\"_parent\"><img src=\"https://colab.research.google.com/assets/colab-badge.svg\" alt=\"Open In Colab\"/></a>"
      ]
    },
    {
      "cell_type": "code",
      "metadata": {
        "id": "e8_XXscf_A9J"
      },
      "source": [
        "import os\n",
        "import sys\n",
        "import platform\n",
        "\n",
        "#!pip install -U -q PyDrive\n",
        "\n",
        "from pydrive.auth import GoogleAuth\n",
        "from pydrive.drive import GoogleDrive\n",
        "from google.colab import auth\n",
        "#from google.colab import drive\n",
        "from oauth2client.client import GoogleCredentials\n",
        "\n",
        "os.getcwd()\n",
        "os.listdir()\n",
        "#drive.mount('/content/drive')\n",
        "#os.getcwd()\n",
        "#os.listdir(\"./drive/MyDrive\")\n"
      ],
      "execution_count": null,
      "outputs": []
    },
    {
      "cell_type": "code",
      "metadata": {
        "id": "IlVzPmm__Zl5"
      },
      "source": [
        "# cloning our team's repo on github\n",
        "#!git clone https://github.com/LoriSchuan-dev/transferLearning_AIwearable.git\n",
        "#os.listdir()"
      ],
      "execution_count": null,
      "outputs": []
    },
    {
      "cell_type": "code",
      "metadata": {
        "colab": {
          "base_uri": "https://localhost:8080/"
        },
        "id": "3N1eynOQ_-TN",
        "outputId": "c37ad79d-3024-485d-db1a-7f6a4ed6aa36"
      },
      "source": [
        "# Authenticate and create the PyDrive client.\n",
        "auth.authenticate_user()\n",
        "#gauth = GoogleAuth()\n",
        "#gauth.credentials = GoogleCredentials.get_application_default()\n",
        "#gDrive = GoogleDrive(gauth)\n",
        "\n",
        "\n",
        "# download the dataset from our team's shared folder on google drive\n",
        "!gdown --id '1X3vtb0ZPQBgv6Fdu_iHul9PNGbSnJqGN'\n",
        "\n",
        "# check if download successful\n",
        "#os.listdir()"
      ],
      "execution_count": null,
      "outputs": [
        {
          "output_type": "stream",
          "name": "stdout",
          "text": [
            "Downloading...\n",
            "From: https://drive.google.com/uc?id=1X3vtb0ZPQBgv6Fdu_iHul9PNGbSnJqGN\n",
            "To: /content/gestures-dataset.zip\n",
            "\r  0% 0.00/2.16M [00:00<?, ?B/s]\r100% 2.16M/2.16M [00:00<00:00, 66.9MB/s]\n"
          ]
        }
      ]
    },
    {
      "cell_type": "code",
      "metadata": {
        "id": "Mlwf6HBOAC4Y"
      },
      "source": [
        "# extract from the dataset compressed package\n",
        "!unzip \"gestures-dataset.zip\"\n",
        "# check if extraction successful\n",
        "os.listdir(\"./gestures-dataset\")"
      ],
      "execution_count": null,
      "outputs": []
    },
    {
      "cell_type": "code",
      "metadata": {
        "id": "x9TdMvw9DjF7"
      },
      "source": [
        "# make new temporary folder to store results\n",
        "!mkdir results\n",
        "os.listdir()"
      ],
      "execution_count": null,
      "outputs": []
    },
    {
      "cell_type": "code",
      "metadata": {
        "id": "0l4C3fItEQ0s"
      },
      "source": [
        "#gesture_subset = []\n",
        "modelStorePath = \"./results/\"\n",
        "\n",
        "import pickle\n",
        "\n",
        "def save_model(model, gesture_subset, filePath):\n",
        "    gesture_subset.sort()\n",
        "    name = '-'.join(gesture_subset)\n",
        "    # saving model\n",
        "    pickle.dump(model.classes_, open(filePath + name + '_model_classes.pkl','wb'))\n",
        "    model.model.save(name + '_lstm')\n",
        "\n",
        "import tensorflow as tf\n",
        "def load_model(gesture_subset, filePath):\n",
        "    gesture_subset.sort()\n",
        "    name = '-'.join(gesture_subset)\n",
        "    # loading model\n",
        "    build_model = lambda: tf.keras.models.load_model(name + '_lstm')\n",
        "    classifier = KerasClassifier(build_fn=build_model, epochs=1, batch_size=10, verbose=0)\n",
        "    classifier.classes_ = pickle.load(open(filePath + name + '_model_classes.pkl','rb'))\n",
        "    classifier.model = build_model()\n",
        "    return classifier\n",
        "\n",
        "print(\"Saving model to disk started for Dataset gestures: \", gesture_subset)\n",
        "save_model(model, gesture_subset, modelStorePath)\n",
        "print(\"Saving model to disk completed for Dataset gestures: \", gesture_subset)\n",
        "\n",
        "print(\"Loading model to disk started for Dataset gestures: \", gesture_subset)\n",
        "\n",
        "model = load_model(gesture_subset, modelStorePath)\n",
        "#print(model.model.summary())\n",
        "print(\"Loading model to disk completed for Dataset gestures: \", gesture_subset)\n"
      ],
      "execution_count": null,
      "outputs": []
    },
    {
      "cell_type": "code",
      "metadata": {
        "id": "0aaYA4qSGGoo"
      },
      "source": [
        "\n",
        "print(\"Testing model against outliers for Dataset gestures: \", gesture_subset)\n",
        "data = dataset_outliers\n",
        "X, y, g = get_dataset(dataset_outliers)\n",
        "y_pred = model.predict(X)\n",
        "#print(y)\n",
        "#print(y_pred)\n",
        "\n",
        "from sklearn.metrics import classification_report\n",
        "print(classification_report(y, y_pred, target_names=gesture_subset))    \n",
        "\n",
        "from sklearn.metrics import confusion_matrix\n",
        "cf_matrix = confusion_matrix(y, y_pred)\n",
        "make_confusion_matrix(cf_matrix, categories=gesture_subset, figsize=[8,8])\n",
        "#return grid_result"
      ],
      "execution_count": null,
      "outputs": []
    },
    {
      "cell_type": "code",
      "metadata": {
        "id": "di0_PfRtEQ3W"
      },
      "source": [
        ""
      ],
      "execution_count": null,
      "outputs": []
    },
    {
      "cell_type": "code",
      "metadata": {
        "id": "X2XkmRIwHhBT"
      },
      "source": [
        ""
      ],
      "execution_count": null,
      "outputs": []
    },
    {
      "cell_type": "markdown",
      "metadata": {
        "id": "FJwIXLk-JGpH"
      },
      "source": [
        "### **ZIP RESULTS AND UPLOAD TO TEAM's FOLDER on GG DRIVE**"
      ]
    },
    {
      "cell_type": "code",
      "metadata": {
        "id": "E4CiuJZ-EQ6J"
      },
      "source": [
        "\n",
        "\n",
        "import time\n",
        "# zipping results fodler with timestamp\n",
        "resultZip = \"result_\" + str(time.time()) + \".zip\"\n",
        "print (resultZip)\n",
        "!zip $resultZip \"./results\"\n",
        "os.listdir()\n",
        "\n",
        "# Authenticate and create the PyDrive client.\n",
        "auth.authenticate_user()\n",
        "\n",
        "# upload to our team's shared folder on gg drive\n",
        "!pip install --upgrade gupload\n",
        "!gupload --to \"17ftcqLR_52zZ8byGL_s0aXxhyP2Ko7Y3\" $resultZip"
      ],
      "execution_count": null,
      "outputs": []
    },
    {
      "cell_type": "code",
      "metadata": {
        "id": "7YcWoJnQH36Z"
      },
      "source": [
        ""
      ],
      "execution_count": null,
      "outputs": []
    }
  ]
}